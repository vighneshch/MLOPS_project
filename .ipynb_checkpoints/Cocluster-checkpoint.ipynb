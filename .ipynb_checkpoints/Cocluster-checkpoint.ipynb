{
 "cells": [
  {
   "cell_type": "code",
   "execution_count": 2,
   "id": "268f1f24-56ae-4b2e-b6a8-5fd9fdbe214d",
   "metadata": {},
   "outputs": [
    {
     "name": "stderr",
     "output_type": "stream",
     "text": [
      "<>:13: SyntaxWarning: invalid escape sequence '\\p'\n",
      "<>:13: SyntaxWarning: invalid escape sequence '\\p'\n",
      "C:\\Users\\tezi2\\AppData\\Local\\Temp\\ipykernel_5740\\2859130311.py:13: SyntaxWarning: invalid escape sequence '\\p'\n",
      "  os.environ['GOOGLE_APPLICATION_CREDENTIALS']='D:\\praxis july 24\\mlops\\ASSIGNMENT\\my assignmenrt\\MLOPS_project\\master-shore-411113-41df45dfb65e.json'\n"
     ]
    },
    {
     "name": "stdout",
     "output_type": "stream",
     "text": [
      "RMSE: 0.9505\n"
     ]
    }
   ],
   "source": [
    "import pandas as pd\n",
    "from surprise import Dataset, Reader\n",
    "from surprise.model_selection import train_test_split\n",
    "from surprise.prediction_algorithms.co_clustering import CoClustering\n",
    "from surprise import accuracy\n",
    "from surprise.model_selection import cross_validate,train_test_split,GridSearchCV\n",
    "from surprise import Dataset,SVD,Reader,accuracy\n",
    "import mlflow\n",
    "import os \n",
    "\n",
    "def train_and_save_model():\n",
    "    # Set the path to your service account key file\n",
    "    os.environ['GOOGLE_APPLICATION_CREDENTIALS']='D:\\praxis july 24\\mlops\\ASSIGNMENT\\my assignmenrt\\MLOPS_project\\master-shore-411113-41df45dfb65e.json'\n",
    "    \n",
    "    # Load the ratings data\n",
    "    ratings = pd.read_csv(r'D:\\praxis july 24\\mlops\\ASSIGNMENT\\my assignmenrt\\MLOPS_project\\ml-latest-small\\ml-latest-small\\ratings.csv')\n",
    "\n",
    "    # Load the movie metadata\n",
    "    movie_meta = pd.read_csv(r'D:\\praxis july 24\\mlops\\ASSIGNMENT\\my assignmenrt\\MLOPS_project\\ml-latest-small\\ml-latest-small\\movies.csv')\n",
    "\n",
    "    # Merge ratings with movie metadata\n",
    "    ratings_movie_title = pd.merge(left=ratings, right=movie_meta, how='left', left_on='movieId', right_on='movieId')\n",
    "    ratings_movie_title.drop(['timestamp', 'genres'], inplace=True, axis=1)\n",
    "\n",
    "    # Create Surprise dataset\n",
    "    reader = Reader(rating_scale=(0.5, 5))\n",
    "    data = Dataset.load_from_df(ratings_movie_title[['userId', 'movieId', 'rating']], reader)\n",
    "\n",
    "    # Split the data into training and test sets\n",
    "    trainset, testset = train_test_split(data, test_size=0.2, random_state=42)\n",
    "\n",
    "    # Create CoClustering model\n",
    "    co_clustering_model = CoClustering(n_cltr_u=3, n_cltr_i=3, n_epochs=20, random_state=None, verbose=False)\n",
    "\n",
    "    # Fit the model on the training set\n",
    "    co_clustering_model.fit(trainset)\n",
    "\n",
    "    # Make predictions on the test set\n",
    "    predictions = co_clustering_model.test(testset)\n",
    "\n",
    "    # Evaluate the model's performance\n",
    "    rmse = accuracy.rmse(predictions)\n",
    "\n",
    "    # Log metrics and model with MLflow\n",
    "    mlflow.set_tracking_uri('http://34.100.213.14:5000/')\n",
    "    exp_name = 'Movie_recommender_system'\n",
    "\n",
    "    # Creating experiment in MLflow\n",
    "    if mlflow.get_experiment_by_name(exp_name) is None:\n",
    "        mlflow.create_experiment(exp_name)\n",
    "    else:\n",
    "        mlflow.set_experiment(exp_name)\n",
    "\n",
    "    # Creating run for CoClustering\n",
    "    with mlflow.start_run():\n",
    "        # Log parameters\n",
    "        mlflow.log_param('n_cltr_u', 3)\n",
    "        mlflow.log_param('n_cltr_i', 3)\n",
    "        mlflow.log_param('n_epochs', 20)\n",
    "\n",
    "        # Log metrics\n",
    "        mlflow.log_metric('rmse', rmse)\n",
    "\n",
    "        # Log the CoClustering model\n",
    "        mlflow.sklearn.log_model(co_clustering_model, 'CoClustering_Model')\n",
    "\n",
    "if __name__ == \"__main__\":\n",
    "    train_and_save_model()"
   ]
  },
  {
   "cell_type": "code",
   "execution_count": null,
   "id": "91c5db38-73e7-41be-8850-2bb9731e90f1",
   "metadata": {},
   "outputs": [],
   "source": []
  }
 ],
 "metadata": {
  "kernelspec": {
   "display_name": "Python 3 (ipykernel)",
   "language": "python",
   "name": "python3"
  },
  "language_info": {
   "codemirror_mode": {
    "name": "ipython",
    "version": 3
   },
   "file_extension": ".py",
   "mimetype": "text/x-python",
   "name": "python",
   "nbconvert_exporter": "python",
   "pygments_lexer": "ipython3",
   "version": "3.12.1"
  }
 },
 "nbformat": 4,
 "nbformat_minor": 5
}
