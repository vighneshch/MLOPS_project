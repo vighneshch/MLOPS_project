{
 "cells": [
  {
   "cell_type": "code",
   "execution_count": 87,
   "id": "f94a8cbb-ccc7-49a1-8852-bde75cc4e1cb",
   "metadata": {},
   "outputs": [
    {
     "name": "stdout",
     "output_type": "stream",
     "text": [
      "Overwriting web_app.py\n"
     ]
    }
   ],
   "source": [
    "%%writefile web_app.py\n",
    "\n",
    "import streamlit as st\n",
    "import mlflow\n",
    "import pandas as pd\n",
    "import requests\n",
    "import os\n",
    "os.environ['GOOGLE_APPLICATION_CREDENTIALS']=\"D:\\\\DataScience\\\\Term 2\\\\7.MLOPS\\\\MLOPS final assignment\\\\MLOPS_project\\\\master-shore-411113-41df45dfb65e.json\"\n",
    "\n",
    "#setting the tracking URI\n",
    "mlflow.set_tracking_uri(\"http://34.100.213.14:5000/\")\n",
    "model_name = 'movie_rs_svdpp'\n",
    "version = \"1\"\n",
    "\n",
    "#loading the model from mlflow server\n",
    "model = mlflow.sklearn.load_model(model_uri = f\"models:/{model_name}/{version}\")\n",
    "\n",
    "#Loading the pickled dataframe\n",
    "df = pd.read_pickle('./moviemeta.pkl')\n",
    "\n",
    "#Loading the movies into a list\n",
    "movie_list = list(df['title'].unique())\n",
    "\n",
    "#Function to recommend the movies\n",
    "def recomd_engine(uid,movie_list):\n",
    "    testset = [[uid,movie_name,4]for movie_name in movie_list]\n",
    "    global model\n",
    "    predictions = model.test(testset)\n",
    "    pred_df = pd.DataFrame(predictions)\n",
    "    pred_df = pred_df.sort_values(by='est',ascending=False)\n",
    "    top_10_movies = list(pred_df.head(10).iid)\n",
    "    return top_10_movies\n",
    "\n",
    "#Function to get posters from TMDB\n",
    "\n",
    "def tmdb_poster(movies,df):\n",
    "    id = []\n",
    "    poster = []\n",
    "    for i in movies:\n",
    "        id.append(df[df['title'] == i]['tmdbId'].values[0])\n",
    "    for i in id:\n",
    "        url = f\"https://api.themoviedb.org/3/movie/{i}?api_key=63d30cc474a218f38d16d816eb717270\"\n",
    "        data = requests.get(url)\n",
    "        data = data.json()\n",
    "        print(data)\n",
    "        poster_path = data['poster_path']\n",
    "        full_path = \"https://image.tmdb.org/t/p/w500/\"+poster_path\n",
    "        poster.append(full_path)\n",
    "    return poster\n",
    "    \n",
    "#Streamlit page design and prediction\n",
    "st.set_page_config(layout='wide',page_title='Movie Recommender')\n",
    "st.title('Movie Recommender System')\n",
    "uid = st.sidebar.number_input(\"Enter your user ID\")\n",
    "if st.sidebar.button('Recommend 🚀'):\n",
    "    with st.spinner(\"Fetching....\"):\n",
    "        movies = recomd_engine(uid,movie_list)\n",
    "        posters = tmdb_poster(movies,df)\n",
    "        st.subheader(\"Here are the 10 recommended movies for you..!\")\n",
    "        if posters:\n",
    "            col1,col2,col3,col4,col5 = st.columns(5, gap='medium')\n",
    "            with col1:\n",
    "                st.text(movies[0])\n",
    "                st.image(posters[0])\n",
    "            with col2:\n",
    "                st.text(movies[1])\n",
    "                st.image(posters[1])\n",
    "            with col3:\n",
    "                st.text(movies[2])\n",
    "                st.image(posters[2])\n",
    "            with col4:\n",
    "                st.text(movies[3])\n",
    "                st.image(posters[3])\n",
    "            with col5:\n",
    "                st.text(movies[4])\n",
    "                st.image(posters[4])\n",
    "        if posters:\n",
    "            col6,col7,col8,col9,col10 = st.columns(5, gap='medium')\n",
    "            with col6:\n",
    "                st.text(movies[5])\n",
    "                st.image(posters[5])\n",
    "            with col7:\n",
    "                st.text(movies[6])\n",
    "                st.image(posters[6])\n",
    "            with col8:\n",
    "                st.text(movies[7])\n",
    "                st.image(posters[7])\n",
    "            with col9:\n",
    "                st.text(movies[8])\n",
    "                st.image(posters[8])\n",
    "            with col10:\n",
    "                st.text(movies[9])\n",
    "                st.image(posters[9])"
   ]
  },
  {
   "cell_type": "code",
   "execution_count": 50,
   "id": "51160033-f33c-40ed-80c9-ff53a482bee3",
   "metadata": {},
   "outputs": [
    {
     "data": {
      "text/plain": [
       "177593"
      ]
     },
     "execution_count": 50,
     "metadata": {},
     "output_type": "execute_result"
    }
   ],
   "source": [
    "df[df['title'] == 'Three Billboards Outside Ebbing, Missouri (2017)']['movieId'].values[0]"
   ]
  },
  {
   "cell_type": "code",
   "execution_count": 65,
   "id": "98f02b59-d2c4-42df-91d5-8bf3c038e997",
   "metadata": {},
   "outputs": [],
   "source": [
    "os.chdir(\"D:\\\\DataScience\\\\Term 2\\\\7.MLOPS\\\\MLOPS final assignment\\\\MLOPS_project\")"
   ]
  },
  {
   "cell_type": "code",
   "execution_count": 68,
   "id": "1a9bc010-17f1-4808-a736-7b43b8eba244",
   "metadata": {},
   "outputs": [
    {
     "data": {
      "text/plain": [
       "9719"
      ]
     },
     "execution_count": 68,
     "metadata": {},
     "output_type": "execute_result"
    }
   ],
   "source": [
    "len(df['title'].unique())"
   ]
  },
  {
   "cell_type": "code",
   "execution_count": null,
   "id": "b8892f60-ef45-4fac-9aea-068a7f9983b6",
   "metadata": {},
   "outputs": [],
   "source": []
  }
 ],
 "metadata": {
  "kernelspec": {
   "display_name": "Python 3 (ipykernel)",
   "language": "python",
   "name": "python3"
  },
  "language_info": {
   "codemirror_mode": {
    "name": "ipython",
    "version": 3
   },
   "file_extension": ".py",
   "mimetype": "text/x-python",
   "name": "python",
   "nbconvert_exporter": "python",
   "pygments_lexer": "ipython3",
   "version": "3.11.5"
  }
 },
 "nbformat": 4,
 "nbformat_minor": 5
}
